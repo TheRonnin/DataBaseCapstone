{
 "cells": [
  {
   "cell_type": "code",
   "execution_count": 18,
   "metadata": {},
   "outputs": [
    {
     "name": "stdout",
     "output_type": "stream",
     "text": [
      "View created successfully!\n",
      "('Cust001', 'John Doe', 'Order001', Decimal('25.98'), 'Italian', 'Pasta')\n",
      "('Cust003', 'Mary Johnson', 'Order003', Decimal('10.99'), 'American', 'Burger')\n",
      "('Cust004', 'David Wilson', 'Order004', Decimal('20.98'), 'French', 'Soup')\n",
      "('Cust005', 'Sarah Brown', 'Order005', Decimal('7.99'), 'Desserts', 'Cheesecake')\n"
     ]
    }
   ],
   "source": [
    "import mysql.connector\n",
    "\n",
    "# Replace these values with your actual database connection details\n",
    "db_config = {\n",
    "    \"host\": \"localhost\",\n",
    "    \"user\": \"littlelemon\",\n",
    "    \"password\": \"littlelemon\",\n",
    "    \"database\": \"littlelemondb\"\n",
    "}\n",
    "\n",
    "# SQL query to create the view\n",
    "create_view_query = \"\"\"\n",
    "CREATE OR REPLACE VIEW CustomerOrdersView AS\n",
    "SELECT\n",
    "    C.CustomerID,\n",
    "    C.CustomerName,\n",
    "    O.OrderID,\n",
    "    O.TotalCost,\n",
    "    M.Cuisine,\n",
    "    MI.ItemName AS MenuItem\n",
    "FROM\n",
    "    Customers C\n",
    "JOIN\n",
    "    Bookings B ON C.CustomerID = B.CustomerID\n",
    "JOIN\n",
    "    Orders O ON B.BookingID = O.BookingID\n",
    "JOIN\n",
    "    Menus M ON O.MenuID = M.MenuID\n",
    "JOIN\n",
    "    MenuItems MI ON M.ItemID = MI.ItemID;\n",
    "\"\"\"\n",
    "\n",
    "# SQL query to select data from the view\n",
    "select_view_query = \"SELECT * FROM CustomerOrdersView\"\n",
    "\n",
    "try:\n",
    "    # Establish a connection to the database\n",
    "    conn = mysql.connector.connect(**db_config)\n",
    "\n",
    "    # Create a cursor\n",
    "    cursor = conn.cursor()\n",
    "\n",
    "    # Execute the query to create the view\n",
    "    cursor.execute(create_view_query)\n",
    "\n",
    "    # Commit the changes\n",
    "    conn.commit()\n",
    "\n",
    "    print(\"View created successfully!\")\n",
    "\n",
    "    # Execute the query to select data from the view\n",
    "    cursor.execute(select_view_query)\n",
    "\n",
    "    # Fetch all the results\n",
    "    results = cursor.fetchall()\n",
    "\n",
    "    # Print the results\n",
    "    for result in results:\n",
    "        print(result)\n",
    "\n",
    "except mysql.connector.Error as err:\n",
    "    print(f\"Error: {err}\")\n",
    "\n",
    "finally:\n",
    "    # Close the cursor and connection\n",
    "    cursor.close()\n",
    "    conn.close()"
   ]
  },
  {
   "cell_type": "code",
   "execution_count": 4,
   "metadata": {},
   "outputs": [
    {
     "name": "stdout",
     "output_type": "stream",
     "text": [
      "('global_super_store',)\n",
      "('globalsuperstore',)\n",
      "('information_schema',)\n",
      "('learning',)\n",
      "('little_lemon',)\n",
      "('little_lemon_db',)\n",
      "('littlelemondb',)\n",
      "('lucky_shrub',)\n",
      "('mysql',)\n",
      "('performance_schema',)\n",
      "('sys',)\n"
     ]
    }
   ],
   "source": [
    "#Showing all the database\n",
    "cursor.execute(\"SHOW DATABASES\")\n",
    "results=cursor.fetchall()\n",
    "for results in results:\n",
    "    print(results)"
   ]
  },
  {
   "cell_type": "code",
   "execution_count": 5,
   "metadata": {},
   "outputs": [
    {
     "name": "stdout",
     "output_type": "stream",
     "text": [
      "('bookings',)\n",
      "('customerordersview',)\n",
      "('customers',)\n",
      "('deliveries',)\n",
      "('menuitems',)\n",
      "('menus',)\n",
      "('orders',)\n",
      "('popularmenuitems',)\n",
      "('staffs',)\n"
     ]
    }
   ],
   "source": [
    "#Showing all the tables inside the littleLemondb\n",
    "cursor.execute(\"USE littlelemondb\")\n",
    "cursor.execute(\"SHOW TABLES\")\n",
    "results=cursor.fetchall()\n",
    "for results in results:\n",
    "    print(results)"
   ]
  }
 ],
 "metadata": {
  "kernelspec": {
   "display_name": "Python 3",
   "language": "python",
   "name": "python3"
  },
  "language_info": {
   "codemirror_mode": {
    "name": "ipython",
    "version": 3
   },
   "file_extension": ".py",
   "mimetype": "text/x-python",
   "name": "python",
   "nbconvert_exporter": "python",
   "pygments_lexer": "ipython3",
   "version": "3.12.0"
  }
 },
 "nbformat": 4,
 "nbformat_minor": 2
}
